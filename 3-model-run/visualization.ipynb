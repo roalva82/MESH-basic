{
 "cells": [
  {
   "cell_type": "markdown",
   "id": "db3d56ee-347c-48ee-a6c2-0064a0f0e417",
   "metadata": {},
   "source": [
    "# This notebook displays the input data for model 4815"
   ]
  },
  {
   "cell_type": "code",
   "execution_count": 49,
   "id": "4059aa8a-9d7d-4bff-9f07-494a2bf4e02d",
   "metadata": {},
   "outputs": [],
   "source": [
    "import pandas as pd\n",
    "import numpy as np\n",
    "import geopandas as gpd\n",
    "import datetime\n",
    "import matplotlib\n",
    "import matplotlib.pyplot as plt\n",
    "\n",
    "\n",
    "#add reference"
   ]
  },
  {
   "cell_type": "code",
   "execution_count": 50,
   "id": "9a83c169-e933-4c1d-b3c0-61c2948eb10f",
   "metadata": {},
   "outputs": [],
   "source": [
    "MESH_state_dir           = './results/' \n",
    "Merit_catchment_shape    = '../0-geofabric/results/div_4815_catchments.shp'\n",
    "Merit_river_shape        = '../0-geofabric/results/div_4815_rivers.shp'\n",
    "#WSC_stations             = '../../shapefiles/BowBanff_WSC_Stations.shp'\n",
    "#outdir                   = '../workflow_data/domain_BowAtBanff/visualizations/'\n",
    "state_name               = 'MESH_output_streamflow.csv'\n",
    "\n",
    "#%% reading input shape files \n",
    "catchment   = gpd.read_file(Merit_catchment_shape)\n",
    "#wsc         = gpd.read_file(WSC_stations)\n",
    "river       = gpd.read_file(Merit_river_shape)"
   ]
  },
  {
   "cell_type": "code",
   "execution_count": 51,
   "id": "0ff4a583-34e0-4fd2-9a33-ec7df2b78137",
   "metadata": {},
   "outputs": [],
   "source": [
    "font = {'family' : 'Times New Roman',\n",
    "         'weight' : 'bold',\n",
    "         'size'   : 20}\n",
    "matplotlib.rc('font', **font)\n",
    "cl =('b','r')\n",
    "lsty  =  ['-','--']"
   ]
  },
  {
   "cell_type": "code",
   "execution_count": 52,
   "id": "7309fb67-15b9-4477-a125-09129a4ff529",
   "metadata": {},
   "outputs": [],
   "source": [
    "names   = [\"observation\",\"simulation\"] "
   ]
  },
  {
   "cell_type": "code",
   "execution_count": 53,
   "id": "3c86ec69-bfaf-4bbf-bd82-f26d92f6f46d",
   "metadata": {},
   "outputs": [],
   "source": [
    "def julian_todate (jdate):\n",
    "    fmt = '%Y%j'\n",
    "    datestd = datetime.datetime.strptime(jdate, fmt).date()\n",
    "    return(datestd)"
   ]
  },
  {
   "cell_type": "code",
   "execution_count": 54,
   "id": "4b49aa5f-57e4-412a-ba19-e73db9977923",
   "metadata": {},
   "outputs": [],
   "source": [
    "def time_construct(data,time_step):\n",
    "    # construct time index \n",
    "    nn = len(data)\n",
    "    ts = '%d'%data['month'][0]+'/'+'%d'%data['day'][0]+'/'+'%d'%data['YEAR'][0]\n",
    "    te = '%d'%data['month'][nn-1]+'/'+'%d'%data['day'][nn-1]+'/'+'%d'%data['YEAR'][nn-1]\n",
    "    tm = pd.date_range(start=ts, end=te, freq=time_step)\n",
    "    return(tm)"
   ]
  },
  {
   "cell_type": "code",
   "execution_count": null,
   "id": "b3086fbb-fab0-46b5-9240-11e2f35bdf0e",
   "metadata": {},
   "outputs": [],
   "source": [
    "#%% reading the input file \n",
    "stflo = pd.read_csv(MESH_state_dir+state_name, skipinitialspace=True)\n",
    "n = len(stflo)\n",
    "\n",
    "# replacing invalid streamflow observations with NAN \n",
    "stflo[stflo == -1] = np.nan\n",
    "\n",
    "#%% construnct time index\n",
    "month = np.zeros((n,1))\n",
    "day   = np.zeros((n,1))\n",
    "\n",
    "for i in range(n):    \n",
    "    jd     = '%d'%stflo['YEAR'][i]+'%d'%stflo['JDAY'][i]\n",
    "    md     = julian_todate(jd)\n",
    "    day[i] = md.day\n",
    "    month[i] = md.month\n",
    "\n",
    "stflo['month'] = month\n",
    "stflo['day']   = day\n",
    "\n",
    "time = time_construct(stflo,'D')"
   ]
  },
  {
   "cell_type": "code",
   "execution_count": null,
   "id": "63cf5227-fb3c-4929-b02c-97331e8255f8",
   "metadata": {},
   "outputs": [],
   "source": [
    "fig,ax = plt.subplots(figsize=(20, 20))\n",
    "catchment.plot(color='white', edgecolor='k', label = 'Catchment Boundary', linewidth=0.1, ax = ax)\n",
    "river.plot(color='blue', label = 'River Network', linewidth=0.3, ax=ax)"
   ]
  }
 ],
 "metadata": {
  "kernelspec": {
   "display_name": "test_env",
   "language": "python",
   "name": "test_env"
  },
  "language_info": {
   "codemirror_mode": {
    "name": "ipython",
    "version": 3
   },
   "file_extension": ".py",
   "mimetype": "text/x-python",
   "name": "python",
   "nbconvert_exporter": "python",
   "pygments_lexer": "ipython3",
   "version": "3.10.2"
  }
 },
 "nbformat": 4,
 "nbformat_minor": 5
}
