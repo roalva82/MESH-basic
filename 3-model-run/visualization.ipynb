{
 "cells": [
  {
   "cell_type": "markdown",
   "id": "db3d56ee-347c-48ee-a6c2-0064a0f0e417",
   "metadata": {},
   "source": [
    "# Spatial visualization of MESH runs"
   ]
  },
  {
   "cell_type": "markdown",
   "id": "5cdf5a50-8497-4e02-8931-c57cc96ed577",
   "metadata": {},
   "source": [
    "This notebook is used to spatially visualize results from MESH runs. It is used to map the rank in the results netcdf of the simulation results with the corresponding polygon within the geofabric shapefile. This allows a seamless visualization using geopandas. \n",
    "\n",
    "The results from geofabric, i.e. catchment and river shapefiles, must be located in ./0-geofabric/results within the repository. Alternatively it can provide the path to the geofabric saved by default in the scracth directory. "
   ]
  },
  {
   "cell_type": "code",
   "execution_count": null,
   "id": "4059aa8a-9d7d-4bff-9f07-494a2bf4e02d",
   "metadata": {},
   "outputs": [],
   "source": [
    "import xarray as xr\n",
    "import matplotlib.pyplot as plt\n",
    "import matplotlib as mpl\n",
    "\n",
    "import numpy as np\n",
    "import geopandas as gpd\n",
    "import math\n"
   ]
  },
  {
   "cell_type": "code",
   "execution_count": null,
   "id": "9a83c169-e933-4c1d-b3c0-61c2948eb10f",
   "metadata": {},
   "outputs": [],
   "source": [
    "drainage = xr.open_dataset('./MESH_drainage_database.nc')\n",
    "forcing = xr.open_dataset('./MESH_forcing.nc')\n",
    "catchment = gpd.read_file('../0-geofabric/results/4815_catchments.shp')\n",
    "\n",
    "# results to be plotted\n",
    "results = xr.open_dataset('./results/QO_H_GRD.nc')\n",
    "plot_var = 'QO'\n",
    "plot_time = 0\n"
   ]
  },
  {
   "cell_type": "code",
   "execution_count": null,
   "id": "0ff4a583-34e0-4fd2-9a33-ec7df2b78137",
   "metadata": {},
   "outputs": [],
   "source": [
    "# we can check that the order of the subbasins is the same for both datasets\n",
    "drainage.load()\n",
    "forcing.load()\n"
   ]
  },
  {
   "cell_type": "code",
   "execution_count": null,
   "id": "a1e4eb02-2fdf-468f-b725-0f9c683adba7",
   "metadata": {},
   "outputs": [],
   "source": [
    "# obtain the order of the subbasin from the forcing file (this was created in 2-model-specific). \n",
    "# note: this can also be done from the drainage file since they both have the same order\n",
    "order = forcing['subbasin'].to_numpy()\n",
    "\n",
    "# reorder the geofabric catchment file based on the forcing file\n",
    "catchment.set_index('COMID', inplace=True)\n",
    "catchment = catchment.reindex(order)\n",
    "\n",
    "# adds the rank to the geofabric catchment file\n",
    "catchment['Rank'] = drainage['Rank']\n",
    "\n",
    "# adds the plot var as a new column to plot results in catchment\n",
    "catchment['plot_var'] = results[plot_var].isel(time=plot_time,lat=0)\n",
    "catchment = catchment.reset_index()\n"
   ]
  },
  {
   "cell_type": "code",
   "execution_count": null,
   "id": "7309fb67-15b9-4477-a125-09129a4ff529",
   "metadata": {},
   "outputs": [],
   "source": [
    "# plotting \n",
    "var = catchment['plot_var']\n",
    "\n",
    "vmin = math.floor(min(var.min().values,var.min()))\n",
    "vmax = math.floor(min(var.max().values,var.max()))\n",
    "\n",
    "fig, ax = plt.subplots(layout='constrained')\n",
    "sm = plt.cm.ScalarMappable(norm=plt.Normalize(vmin=vmin, vmax=vmax))\n",
    "sm._A = []\n",
    "cbr = fig.colorbar(sm, ax=ax)\n",
    "\n",
    "catchment.plot(ax=ax,column='plot_var', vmin=vmin,vmax=vmax, edgecolor=\"face\");\n",
    "\n",
    "# adjust the title according to the plotted variable\n",
    "plt.title('Streamflow data')"
   ]
  },
  {
   "cell_type": "code",
   "execution_count": null,
   "id": "63cf5227-fb3c-4929-b02c-97331e8255f8",
   "metadata": {},
   "outputs": [],
   "source": [
    "fig,ax = plt.subplots(figsize=(20, 20))\n",
    "catchment.plot(color='white', edgecolor='k', label = 'Catchment Boundary', linewidth=0.1, ax = ax)\n",
    "river.plot(color='blue', label = 'River Network', linewidth=0.3, ax=ax)"
   ]
  }
 ],
 "metadata": {
  "kernelspec": {
   "display_name": "test_env",
   "language": "python",
   "name": "test_env"
  },
  "language_info": {
   "codemirror_mode": {
    "name": "ipython",
    "version": 3
   },
   "file_extension": ".py",
   "mimetype": "text/x-python",
   "name": "python",
   "nbconvert_exporter": "python",
   "pygments_lexer": "ipython3",
   "version": "3.10.2"
  }
 },
 "nbformat": 4,
 "nbformat_minor": 5
}
